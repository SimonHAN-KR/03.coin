{
 "cells": [
  {
   "cell_type": "code",
   "execution_count": 1,
   "id": "40a1daa3",
   "metadata": {},
   "outputs": [],
   "source": [
    "import numpy as np\n",
    "import pandas as pd\n",
    "import tensorflow as tf\n",
    "from tensorflow import keras\n",
    "from sklearn.preprocessing import MinMaxScaler"
   ]
  },
  {
   "cell_type": "markdown",
   "id": "cbceface",
   "metadata": {},
   "source": [
    "## 각 코인의 평균값"
   ]
  },
  {
   "cell_type": "code",
   "execution_count": 3,
   "id": "49246dd0",
   "metadata": {},
   "outputs": [],
   "source": [
    "depo=[691.149500,64808.540000,2944.033400,3.097795,0.738314,22.988400,\n",
    "      4368.897000,172.515100,2.701450,413.135440,6342.713000,517.700000,\n",
    "      0.795950,0.179862]"
   ]
  },
  {
   "cell_type": "code",
   "execution_count": 4,
   "id": "98fadbb8",
   "metadata": {},
   "outputs": [],
   "source": [
    "X_train = np.load('./X_train.npy')"
   ]
  },
  {
   "cell_type": "code",
   "execution_count": 5,
   "id": "094198f1",
   "metadata": {},
   "outputs": [],
   "source": [
    "X_valid = np.load('./X_valid.npy')"
   ]
  },
  {
   "cell_type": "code",
   "execution_count": 6,
   "id": "05c64322",
   "metadata": {},
   "outputs": [
    {
     "data": {
      "text/plain": [
       "(43200, 210, 7)"
      ]
     },
     "execution_count": 6,
     "metadata": {},
     "output_type": "execute_result"
    }
   ],
   "source": [
    "X_valid.shape"
   ]
  },
  {
   "cell_type": "code",
   "execution_count": 7,
   "id": "49f376d3",
   "metadata": {},
   "outputs": [],
   "source": [
    "y_train = np.load('./y_train.npy')"
   ]
  },
  {
   "cell_type": "code",
   "execution_count": 8,
   "id": "7327a14e",
   "metadata": {},
   "outputs": [],
   "source": [
    "y_valid = np.load('./y_valid.npy')"
   ]
  },
  {
   "cell_type": "markdown",
   "id": "ed501d77",
   "metadata": {},
   "source": [
    "## 모델 불러오기"
   ]
  },
  {
   "cell_type": "code",
   "execution_count": 11,
   "id": "36971cb6",
   "metadata": {},
   "outputs": [],
   "source": [
    "filepath = './model/basic_LSTM+LSTM_30-1.9243387328060635e-07-0.00016585410048719496.h5'\n",
    "model = keras.models.load_model(filepath)"
   ]
  },
  {
   "cell_type": "code",
   "execution_count": 99,
   "id": "4ea21bda",
   "metadata": {},
   "outputs": [
    {
     "data": {
      "text/plain": [
       "(43200, 210, 7)"
      ]
     },
     "execution_count": 99,
     "metadata": {},
     "output_type": "execute_result"
    }
   ],
   "source": [
    "X_valid.shape"
   ]
  },
  {
   "cell_type": "code",
   "execution_count": 143,
   "id": "f1828cf8",
   "metadata": {},
   "outputs": [
    {
     "data": {
      "text/plain": [
       "(43200, 210, 1)"
      ]
     },
     "execution_count": 143,
     "metadata": {},
     "output_type": "execute_result"
    }
   ],
   "source": [
    "pred.shape"
   ]
  },
  {
   "cell_type": "markdown",
   "id": "bbd5367a",
   "metadata": {},
   "source": [
    "## 코인별 수익체크"
   ]
  },
  {
   "cell_type": "code",
   "execution_count": 90,
   "id": "7edf38fb",
   "metadata": {},
   "outputs": [],
   "source": [
    "from IPython.core.interactiveshell import InteractiveShell\n",
    "InteractiveShell.ast_node_interactivity = \"all\"\n",
    "\n",
    "import warnings\n",
    "warnings.filterwarnings(action=\"ignore\")"
   ]
  },
  {
   "cell_type": "code",
   "execution_count": 126,
   "id": "28c6571d",
   "metadata": {
    "scrolled": false
   },
   "outputs": [
    {
     "name": "stdout",
     "output_type": "stream",
     "text": [
      "\n",
      "Asset ID :  0\n",
      "5 분  :  pred-pred : -481.12338  /  pred-real : 99074.78  /  99555.91\n",
      "10 분  :  pred-pred : -962.21857  /  pred-real : 98616.2  /  99578.42\n",
      "15 분  :  pred-pred : -1443.0012  /  pred-real : 98159.625  /  99602.625\n",
      "20 분  :  pred-pred : -1918.1718  /  pred-real : 97700.89  /  99619.06\n",
      "25 분  :  pred-pred : -2393.1304  /  pred-real : 97237.08  /  99630.21\n",
      "30 분  :  pred-pred : -2876.8545  /  pred-real : 96771.49  /  99648.34\n",
      "35 분  :  pred-pred : -3347.4526  /  pred-real : 96316.66  /  99664.11\n",
      "40 분  :  pred-pred : -3799.918  /  pred-real : 95871.9  /  99671.81\n",
      "45 분  :  pred-pred : -4266.256  /  pred-real : 95431.21  /  99697.47\n",
      "50 분  :  pred-pred : -4743.4136  /  pred-real : 94975.43  /  99718.84\n",
      "55 분  :  pred-pred : -5211.0127  /  pred-real : 94517.79  /  99728.805\n",
      "\n",
      "Asset ID :  1\n",
      "5 분  :  pred-pred : -31035.21  /  pred-real : 359571.06  /  390606.28\n",
      "10 분  :  pred-pred : -62341.395  /  pred-real : 328233.12  /  390574.53\n",
      "15 분  :  pred-pred : -93607.22  /  pred-real : 296874.66  /  390481.88\n",
      "20 분  :  pred-pred : -123569.836  /  pred-real : 265863.5  /  389433.34\n",
      "25 분  :  pred-pred : -152067.34  /  pred-real : 235918.75  /  387986.1\n",
      "30 분  :  pred-pred : -181237.92  /  pred-real : 206439.44  /  387677.38\n",
      "35 분  :  pred-pred : -209665.25  /  pred-real : 177545.0  /  387210.25\n",
      "40 분  :  pred-pred : -236461.02  /  pred-real : 149283.97  /  385745.0\n",
      "45 분  :  pred-pred : -264034.44  /  pred-real : 121915.3  /  385949.75\n",
      "50 분  :  pred-pred : -292440.2  /  pred-real : 93801.03  /  386241.22\n",
      "55 분  :  pred-pred : -319534.06  /  pred-real : 65025.86  /  384559.94\n",
      "\n",
      "Asset ID :  2\n",
      "5 분  :  pred-pred : -599.5344  /  pred-real : 266424.2  /  267023.72\n",
      "10 분  :  pred-pred : -1211.071  /  pred-real : 265745.94  /  266957.0\n",
      "15 분  :  pred-pred : -1817.0186  /  pred-real : 265063.28  /  266880.3\n",
      "20 분  :  pred-pred : -2421.3708  /  pred-real : 264371.6  /  266792.97\n",
      "25 분  :  pred-pred : -3037.606  /  pred-real : 263663.8  /  266701.4\n",
      "30 분  :  pred-pred : -3662.6738  /  pred-real : 262959.9  /  266622.6\n",
      "35 분  :  pred-pred : -4269.388  /  pred-real : 262271.2  /  266540.56\n",
      "40 분  :  pred-pred : -4847.2495  /  pred-real : 261595.9  /  266443.16\n",
      "45 분  :  pred-pred : -5455.174  /  pred-real : 260931.03  /  266386.22\n",
      "50 분  :  pred-pred : -6061.6104  /  pred-real : 260245.34  /  266306.97\n",
      "55 분  :  pred-pred : -6662.1914  /  pred-real : 259555.92  /  266218.12\n",
      "\n",
      "Asset ID :  3\n",
      "5 분  :  pred-pred : 14.690854  /  pred-real : -299367.94  /  -299382.62\n",
      "10 분  :  pred-pred : 29.643509  /  pred-real : -299333.88  /  -299363.53\n",
      "15 분  :  pred-pred : 44.430614  /  pred-real : -299299.97  /  -299344.4\n",
      "20 분  :  pred-pred : 58.025143  /  pred-real : -299265.66  /  -299323.7\n",
      "25 분  :  pred-pred : 69.92563  /  pred-real : -299231.03  /  -299300.97\n",
      "30 분  :  pred-pred : 81.20882  /  pred-real : -299196.84  /  -299278.06\n",
      "35 분  :  pred-pred : 92.34333  /  pred-real : -299162.7  /  -299255.03\n",
      "40 분  :  pred-pred : 102.74266  /  pred-real : -299128.47  /  -299231.22\n",
      "45 분  :  pred-pred : 113.70212  /  pred-real : -299094.1  /  -299207.78\n",
      "50 분  :  pred-pred : 124.17782  /  pred-real : -299059.97  /  -299184.16\n",
      "55 분  :  pred-pred : 134.35353  /  pred-real : -299025.88  /  -299160.22\n",
      "\n",
      "Asset ID :  4\n",
      "5 분  :  pred-pred : 8.01214  /  pred-real : 5382.622  /  5374.61\n",
      "10 분  :  pred-pred : 16.37785  /  pred-real : 5382.7197  /  5366.342\n",
      "15 분  :  pred-pred : 25.136002  /  pred-real : 5382.886  /  5357.75\n",
      "20 분  :  pred-pred : 34.344364  /  pred-real : 5382.6704  /  5348.326\n",
      "25 분  :  pred-pred : 42.32532  /  pred-real : 5382.174  /  5339.8486\n",
      "30 분  :  pred-pred : 51.23923  /  pred-real : 5382.143  /  5330.904\n",
      "35 분  :  pred-pred : 59.753242  /  pred-real : 5382.285  /  5322.5317\n",
      "40 분  :  pred-pred : 69.06539  /  pred-real : 5382.4253  /  5313.36\n",
      "45 분  :  pred-pred : 77.681305  /  pred-real : 5382.522  /  5304.841\n",
      "50 분  :  pred-pred : 87.45717  /  pred-real : 5382.681  /  5295.224\n",
      "55 분  :  pred-pred : 96.228424  /  pred-real : 5382.8105  /  5286.582\n",
      "\n",
      "Asset ID :  5\n",
      "5 분  :  pred-pred : 20.942177  /  pred-real : -77362.51  /  -77383.45\n",
      "10 분  :  pred-pred : 41.750584  /  pred-real : -77354.72  /  -77396.47\n",
      "15 분  :  pred-pred : 62.30136  /  pred-real : -77347.4  /  -77409.7\n",
      "20 분  :  pred-pred : 83.15784  /  pred-real : -77339.94  /  -77423.09\n",
      "25 분  :  pred-pred : 103.85516  /  pred-real : -77331.48  /  -77435.33\n",
      "30 분  :  pred-pred : 124.23374  /  pred-real : -77323.41  /  -77447.64\n",
      "35 분  :  pred-pred : 143.66982  /  pred-real : -77315.81  /  -77459.484\n",
      "40 분  :  pred-pred : 163.10419  /  pred-real : -77308.27  /  -77471.375\n",
      "45 분  :  pred-pred : 182.68799  /  pred-real : -77300.14  /  -77482.83\n",
      "50 분  :  pred-pred : 202.78833  /  pred-real : -77292.28  /  -77495.07\n",
      "55 분  :  pred-pred : 221.90248  /  pred-real : -77284.48  /  -77506.38\n",
      "\n",
      "Asset ID :  6\n",
      "5 분  :  pred-pred : -1290.7085  /  pred-real : -585214.56  /  -583923.9\n",
      "10 분  :  pred-pred : -2609.2244  /  pred-real : -586512.0  /  -583902.75\n",
      "15 분  :  pred-pred : -3920.3193  /  pred-real : -587826.56  /  -583906.25\n",
      "20 분  :  pred-pred : -5219.9575  /  pred-real : -589131.8  /  -583911.9\n",
      "25 분  :  pred-pred : -6478.023  /  pred-real : -590467.6  /  -583989.6\n",
      "30 분  :  pred-pred : -7817.5166  /  pred-real : -591819.6  /  -584002.1\n",
      "35 분  :  pred-pred : -9098.559  /  pred-real : -593131.25  /  -584032.7\n",
      "40 분  :  pred-pred : -10219.779  /  pred-real : -594396.3  /  -584176.56\n",
      "45 분  :  pred-pred : -11407.975  /  pred-real : -595554.9  /  -584146.9\n",
      "50 분  :  pred-pred : -12669.871  /  pred-real : -596791.9  /  -584122.0\n",
      "55 분  :  pred-pred : -13790.45  /  pred-real : -598072.4  /  -584281.94\n",
      "\n",
      "Asset ID :  7\n",
      "5 분  :  pred-pred : -3.831627  /  pred-real : 909313.94  /  909317.75\n",
      "10 분  :  pred-pred : -6.596916  /  pred-real : 909203.44  /  909210.06\n",
      "15 분  :  pred-pred : -9.042999  /  pred-real : 909093.1  /  909102.2\n",
      "20 분  :  pred-pred : -14.301422  /  pred-real : 908983.06  /  908997.4\n",
      "25 분  :  pred-pred : -23.82843  /  pred-real : 908868.6  /  908892.44\n",
      "30 분  :  pred-pred : -35.61487  /  pred-real : 908751.8  /  908787.44\n",
      "35 분  :  pred-pred : -45.51529  /  pred-real : 908637.06  /  908682.56\n",
      "40 분  :  pred-pred : -50.18582  /  pred-real : 908524.4  /  908574.56\n",
      "45 분  :  pred-pred : -57.952972  /  pred-real : 908412.7  /  908470.6\n",
      "50 분  :  pred-pred : -64.62192  /  pred-real : 908298.3  /  908362.94\n",
      "55 분  :  pred-pred : -69.52551  /  pred-real : 908185.0  /  908254.5\n",
      "\n",
      "Asset ID :  8\n",
      "5 분  :  pred-pred : -5.9625616  /  pred-real : -54473.98  /  -54468.02\n",
      "10 분  :  pred-pred : -11.914675  /  pred-real : -54471.04  /  -54459.125\n",
      "15 분  :  pred-pred : -17.762083  /  pred-real : -54468.004  /  -54450.242\n",
      "20 분  :  pred-pred : -22.766817  /  pred-real : -54464.164  /  -54441.4\n",
      "25 분  :  pred-pred : -27.316021  /  pred-real : -54459.85  /  -54432.535\n",
      "30 분  :  pred-pred : -32.900486  /  pred-real : -54456.547  /  -54423.645\n",
      "35 분  :  pred-pred : -38.079723  /  pred-real : -54452.83  /  -54414.75\n",
      "40 분  :  pred-pred : -42.76664  /  pred-real : -54448.59  /  -54405.824\n",
      "45 분  :  pred-pred : -47.801575  /  pred-real : -54444.64  /  -54396.84\n",
      "50 분  :  pred-pred : -53.296875  /  pred-real : -54441.188  /  -54387.89\n",
      "55 분  :  pred-pred : -58.924805  /  pred-real : -54437.875  /  -54378.95\n",
      "\n",
      "Asset ID :  9\n",
      "5 분  :  pred-pred : -132.88998  /  pred-real : 52035.63  /  52168.52\n",
      "10 분  :  pred-pred : -264.25525  /  pred-real : 51913.387  /  52177.64\n",
      "15 분  :  pred-pred : -395.92603  /  pred-real : 51790.625  /  52186.55\n",
      "20 분  :  pred-pred : -526.9894  /  pred-real : 51666.51  /  52193.5\n",
      "25 분  :  pred-pred : -663.08154  /  pred-real : 51538.656  /  52201.74\n",
      "30 분  :  pred-pred : -798.0653  /  pred-real : 51412.594  /  52210.66\n",
      "35 분  :  pred-pred : -927.19244  /  pred-real : 51292.074  /  52219.266\n",
      "40 분  :  pred-pred : -1045.6447  /  pred-real : 51175.14  /  52220.785\n",
      "45 분  :  pred-pred : -1178.6364  /  pred-real : 51057.62  /  52236.258\n",
      "50 분  :  pred-pred : -1313.3687  /  pred-real : 50928.8  /  52242.168\n",
      "55 분  :  pred-pred : -1450.5431  /  pred-real : 50794.734  /  52245.277\n",
      "\n",
      "Asset ID :  10\n",
      "5 분  :  pred-pred : -7386.9004  /  pred-real : -877988.8  /  -870601.94\n",
      "10 분  :  pred-pred : -14802.434  /  pred-real : -885239.6  /  -870437.2\n",
      "15 분  :  pred-pred : -22254.787  /  pred-real : -892500.9  /  -870246.06\n",
      "20 분  :  pred-pred : -29665.441  /  pred-real : -899747.06  /  -870081.6\n",
      "25 분  :  pred-pred : -37010.65  /  pred-real : -906971.3  /  -869960.7\n",
      "30 분  :  pred-pred : -44419.266  /  pred-real : -914260.1  /  -869840.9\n",
      "35 분  :  pred-pred : -51720.04  /  pred-real : -921449.9  /  -869729.8\n",
      "40 분  :  pred-pred : -58861.92  /  pred-real : -928558.44  /  -869696.5\n",
      "45 분  :  pred-pred : -66100.44  /  pred-real : -935621.3  /  -869520.9\n",
      "50 분  :  pred-pred : -73456.61  /  pred-real : -942785.0  /  -869328.4\n"
     ]
    },
    {
     "name": "stdout",
     "output_type": "stream",
     "text": [
      "55 분  :  pred-pred : -80695.48  /  pred-real : -949992.5  /  -869297.0\n",
      "\n",
      "Asset ID :  11\n",
      "5 분  :  pred-pred : -300.40765  /  pred-real : -318574.38  /  -318273.97\n",
      "10 분  :  pred-pred : -602.4837  /  pred-real : -318817.56  /  -318215.1\n",
      "15 분  :  pred-pred : -909.4409  /  pred-real : -319062.9  /  -318153.47\n",
      "20 분  :  pred-pred : -1218.2808  /  pred-real : -319311.56  /  -318093.28\n",
      "25 분  :  pred-pred : -1527.6606  /  pred-real : -319571.7  /  -318044.03\n",
      "30 분  :  pred-pred : -1845.0  /  pred-real : -319836.06  /  -317991.06\n",
      "35 분  :  pred-pred : -2151.1638  /  pred-real : -320091.94  /  -317940.78\n",
      "40 분  :  pred-pred : -2438.4114  /  pred-real : -320337.3  /  -317898.9\n",
      "45 분  :  pred-pred : -2735.3416  /  pred-real : -320576.53  /  -317841.2\n",
      "50 분  :  pred-pred : -3044.7373  /  pred-real : -320831.0  /  -317786.25\n",
      "55 분  :  pred-pred : -3346.9429  /  pred-real : -321088.22  /  -317741.28\n",
      "\n",
      "Asset ID :  12\n",
      "5 분  :  pred-pred : 0.0  /  pred-real : -36505.207  /  -36505.207\n",
      "10 분  :  pred-pred : 0.0  /  pred-real : -36501.3  /  -36501.3\n",
      "15 분  :  pred-pred : 0.0  /  pred-real : -36497.4  /  -36497.4\n",
      "20 분  :  pred-pred : 0.0  /  pred-real : -36493.5  /  -36493.5\n",
      "25 분  :  pred-pred : 0.0  /  pred-real : -36489.598  /  -36489.598\n",
      "30 분  :  pred-pred : 0.0  /  pred-real : -36485.684  /  -36485.684\n",
      "35 분  :  pred-pred : 0.0  /  pred-real : -36481.77  /  -36481.77\n",
      "40 분  :  pred-pred : 0.0  /  pred-real : -36477.855  /  -36477.855\n",
      "45 분  :  pred-pred : 0.0  /  pred-real : -36473.93  /  -36473.93\n",
      "50 분  :  pred-pred : 0.0  /  pred-real : -36470.008  /  -36470.008\n",
      "55 분  :  pred-pred : 0.0  /  pred-real : -36466.094  /  -36466.094\n",
      "\n",
      "Asset ID :  13\n",
      "5 분  :  pred-pred : 0.0  /  pred-real : -25790.734  /  -25790.734\n",
      "10 분  :  pred-pred : 0.0  /  pred-real : -25787.78  /  -25787.78\n",
      "15 분  :  pred-pred : 0.0  /  pred-real : -25784.824  /  -25784.824\n",
      "20 분  :  pred-pred : 0.0  /  pred-real : -25781.87  /  -25781.87\n",
      "25 분  :  pred-pred : 0.0  /  pred-real : -25778.91  /  -25778.91\n",
      "30 분  :  pred-pred : 0.0  /  pred-real : -25775.95  /  -25775.95\n",
      "35 분  :  pred-pred : 0.0  /  pred-real : -25772.988  /  -25772.988\n",
      "40 분  :  pred-pred : 0.0  /  pred-real : -25770.023  /  -25770.023\n",
      "45 분  :  pred-pred : 0.0  /  pred-real : -25767.059  /  -25767.059\n",
      "50 분  :  pred-pred : 0.0  /  pred-real : -25764.092  /  -25764.092\n",
      "55 분  :  pred-pred : 0.0  /  pred-real : -25761.125  /  -25761.125\n"
     ]
    }
   ],
   "source": [
    "for id in range(14):\n",
    "    print()\n",
    "    print(\"Asset ID : \", id)\n",
    "    for min in range(5,60,5):\n",
    "        a = pd.DataFrame(closeminmaxsacler.inverse_transform(pred[:, id]))\n",
    "        a.columns =[f'predict[:{-min}]']\n",
    "        a[f'real[:{-min}]'] = pd.DataFrame(closeminmaxsacler.inverse_transform(y_valid[:, id].reshape(-1,1)))                        \n",
    "        df=pd.DataFrame(a[min:])\n",
    "        df.reset_index(inplace=True)\n",
    "        b = a[:-min]\n",
    "        b[f'predict[{min}:]'] = df[f'predict[:-{min}]']\n",
    "        b[f'real[{min}:]'] = df[f'real[:-{min}]']\n",
    "        b['pred-pred'] = b[f'predict[{min}:]']-b[f'predict[:-{min}]']\n",
    "        b['pred-real'] = b[f'predict[{min}:]']-b[f'real[:-{min}]']\n",
    "        print(min,'분', ' : ', 'pred-pred :', b['pred-pred'].sum(), ' / ', 'pred-real :',b['pred-real'].sum(),\n",
    "             ' / ', (b['pred-real'].sum()-b['pred-pred'].sum()))\n"
   ]
  },
  {
   "cell_type": "markdown",
   "id": "a18cd4ea",
   "metadata": {},
   "source": [
    "## 5분마다 코인별 수익체크"
   ]
  },
  {
   "cell_type": "code",
   "execution_count": 133,
   "id": "b72b0b5f",
   "metadata": {
    "scrolled": false
   },
   "outputs": [
    {
     "name": "stdout",
     "output_type": "stream",
     "text": [
      "Asset ID :  0   5 분  :  pred-pred : -481.12338  /  pred-real : 99074.78  /  99555.91\n",
      "Asset ID :  1   5 분  :  pred-pred : -31035.21  /  pred-real : 359571.06  /  390606.28\n",
      "Asset ID :  2   5 분  :  pred-pred : -599.5344  /  pred-real : 266424.2  /  267023.72\n",
      "Asset ID :  3   5 분  :  pred-pred : 14.690854  /  pred-real : -299367.94  /  -299382.62\n",
      "Asset ID :  4   5 분  :  pred-pred : 8.01214  /  pred-real : 5382.622  /  5374.61\n",
      "Asset ID :  5   5 분  :  pred-pred : 20.942177  /  pred-real : -77362.51  /  -77383.45\n",
      "Asset ID :  6   5 분  :  pred-pred : -1290.7085  /  pred-real : -585214.56  /  -583923.9\n",
      "Asset ID :  7   5 분  :  pred-pred : -3.831627  /  pred-real : 909313.94  /  909317.75\n",
      "Asset ID :  8   5 분  :  pred-pred : -5.9625616  /  pred-real : -54473.98  /  -54468.02\n",
      "Asset ID :  9   5 분  :  pred-pred : -132.88998  /  pred-real : 52035.63  /  52168.52\n",
      "Asset ID :  10   5 분  :  pred-pred : -7386.9004  /  pred-real : -877988.8  /  -870601.94\n",
      "Asset ID :  11   5 분  :  pred-pred : -300.40765  /  pred-real : -318574.38  /  -318273.97\n",
      "Asset ID :  12   5 분  :  pred-pred : 0.0  /  pred-real : -36505.207  /  -36505.207\n",
      "Asset ID :  13   5 분  :  pred-pred : 0.0  /  pred-real : -25790.734  /  -25790.734\n",
      "\n",
      "Asset ID :  0   10 분  :  pred-pred : -962.21857  /  pred-real : 98616.2  /  99578.42\n",
      "Asset ID :  1   10 분  :  pred-pred : -62341.395  /  pred-real : 328233.12  /  390574.53\n",
      "Asset ID :  2   10 분  :  pred-pred : -1211.071  /  pred-real : 265745.94  /  266957.0\n",
      "Asset ID :  3   10 분  :  pred-pred : 29.643509  /  pred-real : -299333.88  /  -299363.53\n",
      "Asset ID :  4   10 분  :  pred-pred : 16.37785  /  pred-real : 5382.7197  /  5366.342\n",
      "Asset ID :  5   10 분  :  pred-pred : 41.750584  /  pred-real : -77354.72  /  -77396.47\n",
      "Asset ID :  6   10 분  :  pred-pred : -2609.2244  /  pred-real : -586512.0  /  -583902.75\n",
      "Asset ID :  7   10 분  :  pred-pred : -6.596916  /  pred-real : 909203.44  /  909210.06\n",
      "Asset ID :  8   10 분  :  pred-pred : -11.914675  /  pred-real : -54471.04  /  -54459.125\n",
      "Asset ID :  9   10 분  :  pred-pred : -264.25525  /  pred-real : 51913.387  /  52177.64\n",
      "Asset ID :  10   10 분  :  pred-pred : -14802.434  /  pred-real : -885239.6  /  -870437.2\n",
      "Asset ID :  11   10 분  :  pred-pred : -602.4837  /  pred-real : -318817.56  /  -318215.1\n",
      "Asset ID :  12   10 분  :  pred-pred : 0.0  /  pred-real : -36501.3  /  -36501.3\n",
      "Asset ID :  13   10 분  :  pred-pred : 0.0  /  pred-real : -25787.78  /  -25787.78\n",
      "\n",
      "Asset ID :  0   15 분  :  pred-pred : -1443.0012  /  pred-real : 98159.625  /  99602.625\n",
      "Asset ID :  1   15 분  :  pred-pred : -93607.22  /  pred-real : 296874.66  /  390481.88\n",
      "Asset ID :  2   15 분  :  pred-pred : -1817.0186  /  pred-real : 265063.28  /  266880.3\n",
      "Asset ID :  3   15 분  :  pred-pred : 44.430614  /  pred-real : -299299.97  /  -299344.4\n",
      "Asset ID :  4   15 분  :  pred-pred : 25.136002  /  pred-real : 5382.886  /  5357.75\n",
      "Asset ID :  5   15 분  :  pred-pred : 62.30136  /  pred-real : -77347.4  /  -77409.7\n",
      "Asset ID :  6   15 분  :  pred-pred : -3920.3193  /  pred-real : -587826.56  /  -583906.25\n",
      "Asset ID :  7   15 분  :  pred-pred : -9.042999  /  pred-real : 909093.1  /  909102.2\n",
      "Asset ID :  8   15 분  :  pred-pred : -17.762083  /  pred-real : -54468.004  /  -54450.242\n",
      "Asset ID :  9   15 분  :  pred-pred : -395.92603  /  pred-real : 51790.625  /  52186.55\n",
      "Asset ID :  10   15 분  :  pred-pred : -22254.787  /  pred-real : -892500.9  /  -870246.06\n",
      "Asset ID :  11   15 분  :  pred-pred : -909.4409  /  pred-real : -319062.9  /  -318153.47\n",
      "Asset ID :  12   15 분  :  pred-pred : 0.0  /  pred-real : -36497.4  /  -36497.4\n",
      "Asset ID :  13   15 분  :  pred-pred : 0.0  /  pred-real : -25784.824  /  -25784.824\n",
      "\n",
      "Asset ID :  0   20 분  :  pred-pred : -1918.1718  /  pred-real : 97700.89  /  99619.06\n",
      "Asset ID :  1   20 분  :  pred-pred : -123569.836  /  pred-real : 265863.5  /  389433.34\n",
      "Asset ID :  2   20 분  :  pred-pred : -2421.3708  /  pred-real : 264371.6  /  266792.97\n",
      "Asset ID :  3   20 분  :  pred-pred : 58.025143  /  pred-real : -299265.66  /  -299323.7\n",
      "Asset ID :  4   20 분  :  pred-pred : 34.344364  /  pred-real : 5382.6704  /  5348.326\n",
      "Asset ID :  5   20 분  :  pred-pred : 83.15784  /  pred-real : -77339.94  /  -77423.09\n",
      "Asset ID :  6   20 분  :  pred-pred : -5219.9575  /  pred-real : -589131.8  /  -583911.9\n",
      "Asset ID :  7   20 분  :  pred-pred : -14.301422  /  pred-real : 908983.06  /  908997.4\n",
      "Asset ID :  8   20 분  :  pred-pred : -22.766817  /  pred-real : -54464.164  /  -54441.4\n",
      "Asset ID :  9   20 분  :  pred-pred : -526.9894  /  pred-real : 51666.51  /  52193.5\n",
      "Asset ID :  10   20 분  :  pred-pred : -29665.441  /  pred-real : -899747.06  /  -870081.6\n",
      "Asset ID :  11   20 분  :  pred-pred : -1218.2808  /  pred-real : -319311.56  /  -318093.28\n",
      "Asset ID :  12   20 분  :  pred-pred : 0.0  /  pred-real : -36493.5  /  -36493.5\n",
      "Asset ID :  13   20 분  :  pred-pred : 0.0  /  pred-real : -25781.87  /  -25781.87\n",
      "\n",
      "Asset ID :  0   25 분  :  pred-pred : -2393.1304  /  pred-real : 97237.08  /  99630.21\n",
      "Asset ID :  1   25 분  :  pred-pred : -152067.34  /  pred-real : 235918.75  /  387986.1\n",
      "Asset ID :  2   25 분  :  pred-pred : -3037.606  /  pred-real : 263663.8  /  266701.4\n",
      "Asset ID :  3   25 분  :  pred-pred : 69.92563  /  pred-real : -299231.03  /  -299300.97\n",
      "Asset ID :  4   25 분  :  pred-pred : 42.32532  /  pred-real : 5382.174  /  5339.8486\n",
      "Asset ID :  5   25 분  :  pred-pred : 103.85516  /  pred-real : -77331.48  /  -77435.33\n",
      "Asset ID :  6   25 분  :  pred-pred : -6478.023  /  pred-real : -590467.6  /  -583989.6\n",
      "Asset ID :  7   25 분  :  pred-pred : -23.82843  /  pred-real : 908868.6  /  908892.44\n",
      "Asset ID :  8   25 분  :  pred-pred : -27.316021  /  pred-real : -54459.85  /  -54432.535\n",
      "Asset ID :  9   25 분  :  pred-pred : -663.08154  /  pred-real : 51538.656  /  52201.74\n",
      "Asset ID :  10   25 분  :  pred-pred : -37010.65  /  pred-real : -906971.3  /  -869960.7\n",
      "Asset ID :  11   25 분  :  pred-pred : -1527.6606  /  pred-real : -319571.7  /  -318044.03\n",
      "Asset ID :  12   25 분  :  pred-pred : 0.0  /  pred-real : -36489.598  /  -36489.598\n",
      "Asset ID :  13   25 분  :  pred-pred : 0.0  /  pred-real : -25778.91  /  -25778.91\n",
      "\n",
      "Asset ID :  0   30 분  :  pred-pred : -2876.8545  /  pred-real : 96771.49  /  99648.34\n",
      "Asset ID :  1   30 분  :  pred-pred : -181237.92  /  pred-real : 206439.44  /  387677.38\n",
      "Asset ID :  2   30 분  :  pred-pred : -3662.6738  /  pred-real : 262959.9  /  266622.6\n",
      "Asset ID :  3   30 분  :  pred-pred : 81.20882  /  pred-real : -299196.84  /  -299278.06\n",
      "Asset ID :  4   30 분  :  pred-pred : 51.23923  /  pred-real : 5382.143  /  5330.904\n",
      "Asset ID :  5   30 분  :  pred-pred : 124.23374  /  pred-real : -77323.41  /  -77447.64\n",
      "Asset ID :  6   30 분  :  pred-pred : -7817.5166  /  pred-real : -591819.6  /  -584002.1\n",
      "Asset ID :  7   30 분  :  pred-pred : -35.61487  /  pred-real : 908751.8  /  908787.44\n",
      "Asset ID :  8   30 분  :  pred-pred : -32.900486  /  pred-real : -54456.547  /  -54423.645\n",
      "Asset ID :  9   30 분  :  pred-pred : -798.0653  /  pred-real : 51412.594  /  52210.66\n",
      "Asset ID :  10   30 분  :  pred-pred : -44419.266  /  pred-real : -914260.1  /  -869840.9\n",
      "Asset ID :  11   30 분  :  pred-pred : -1845.0  /  pred-real : -319836.06  /  -317991.06\n",
      "Asset ID :  12   30 분  :  pred-pred : 0.0  /  pred-real : -36485.684  /  -36485.684\n",
      "Asset ID :  13   30 분  :  pred-pred : 0.0  /  pred-real : -25775.95  /  -25775.95\n",
      "\n",
      "Asset ID :  0   35 분  :  pred-pred : -3347.4526  /  pred-real : 96316.66  /  99664.11\n",
      "Asset ID :  1   35 분  :  pred-pred : -209665.25  /  pred-real : 177545.0  /  387210.25\n",
      "Asset ID :  2   35 분  :  pred-pred : -4269.388  /  pred-real : 262271.2  /  266540.56\n",
      "Asset ID :  3   35 분  :  pred-pred : 92.34333  /  pred-real : -299162.7  /  -299255.03\n",
      "Asset ID :  4   35 분  :  pred-pred : 59.753242  /  pred-real : 5382.285  /  5322.5317\n",
      "Asset ID :  5   35 분  :  pred-pred : 143.66982  /  pred-real : -77315.81  /  -77459.484\n",
      "Asset ID :  6   35 분  :  pred-pred : -9098.559  /  pred-real : -593131.25  /  -584032.7\n",
      "Asset ID :  7   35 분  :  pred-pred : -45.51529  /  pred-real : 908637.06  /  908682.56\n",
      "Asset ID :  8   35 분  :  pred-pred : -38.079723  /  pred-real : -54452.83  /  -54414.75\n",
      "Asset ID :  9   35 분  :  pred-pred : -927.19244  /  pred-real : 51292.074  /  52219.266\n",
      "Asset ID :  10   35 분  :  pred-pred : -51720.04  /  pred-real : -921449.9  /  -869729.8\n",
      "Asset ID :  11   35 분  :  pred-pred : -2151.1638  /  pred-real : -320091.94  /  -317940.78\n",
      "Asset ID :  12   35 분  :  pred-pred : 0.0  /  pred-real : -36481.77  /  -36481.77\n",
      "Asset ID :  13   35 분  :  pred-pred : 0.0  /  pred-real : -25772.988  /  -25772.988\n",
      "\n"
     ]
    },
    {
     "name": "stdout",
     "output_type": "stream",
     "text": [
      "Asset ID :  0   40 분  :  pred-pred : -3799.918  /  pred-real : 95871.9  /  99671.81\n",
      "Asset ID :  1   40 분  :  pred-pred : -236461.02  /  pred-real : 149283.97  /  385745.0\n",
      "Asset ID :  2   40 분  :  pred-pred : -4847.2495  /  pred-real : 261595.9  /  266443.16\n",
      "Asset ID :  3   40 분  :  pred-pred : 102.74266  /  pred-real : -299128.47  /  -299231.22\n",
      "Asset ID :  4   40 분  :  pred-pred : 69.06539  /  pred-real : 5382.4253  /  5313.36\n",
      "Asset ID :  5   40 분  :  pred-pred : 163.10419  /  pred-real : -77308.27  /  -77471.375\n",
      "Asset ID :  6   40 분  :  pred-pred : -10219.779  /  pred-real : -594396.3  /  -584176.56\n",
      "Asset ID :  7   40 분  :  pred-pred : -50.18582  /  pred-real : 908524.4  /  908574.56\n",
      "Asset ID :  8   40 분  :  pred-pred : -42.76664  /  pred-real : -54448.59  /  -54405.824\n",
      "Asset ID :  9   40 분  :  pred-pred : -1045.6447  /  pred-real : 51175.14  /  52220.785\n",
      "Asset ID :  10   40 분  :  pred-pred : -58861.92  /  pred-real : -928558.44  /  -869696.5\n",
      "Asset ID :  11   40 분  :  pred-pred : -2438.4114  /  pred-real : -320337.3  /  -317898.9\n",
      "Asset ID :  12   40 분  :  pred-pred : 0.0  /  pred-real : -36477.855  /  -36477.855\n",
      "Asset ID :  13   40 분  :  pred-pred : 0.0  /  pred-real : -25770.023  /  -25770.023\n",
      "\n",
      "Asset ID :  0   45 분  :  pred-pred : -4266.256  /  pred-real : 95431.21  /  99697.47\n",
      "Asset ID :  1   45 분  :  pred-pred : -264034.44  /  pred-real : 121915.3  /  385949.75\n",
      "Asset ID :  2   45 분  :  pred-pred : -5455.174  /  pred-real : 260931.03  /  266386.22\n",
      "Asset ID :  3   45 분  :  pred-pred : 113.70212  /  pred-real : -299094.1  /  -299207.78\n",
      "Asset ID :  4   45 분  :  pred-pred : 77.681305  /  pred-real : 5382.522  /  5304.841\n",
      "Asset ID :  5   45 분  :  pred-pred : 182.68799  /  pred-real : -77300.14  /  -77482.83\n",
      "Asset ID :  6   45 분  :  pred-pred : -11407.975  /  pred-real : -595554.9  /  -584146.9\n",
      "Asset ID :  7   45 분  :  pred-pred : -57.952972  /  pred-real : 908412.7  /  908470.6\n",
      "Asset ID :  8   45 분  :  pred-pred : -47.801575  /  pred-real : -54444.64  /  -54396.84\n",
      "Asset ID :  9   45 분  :  pred-pred : -1178.6364  /  pred-real : 51057.62  /  52236.258\n",
      "Asset ID :  10   45 분  :  pred-pred : -66100.44  /  pred-real : -935621.3  /  -869520.9\n",
      "Asset ID :  11   45 분  :  pred-pred : -2735.3416  /  pred-real : -320576.53  /  -317841.2\n",
      "Asset ID :  12   45 분  :  pred-pred : 0.0  /  pred-real : -36473.93  /  -36473.93\n",
      "Asset ID :  13   45 분  :  pred-pred : 0.0  /  pred-real : -25767.059  /  -25767.059\n",
      "\n",
      "Asset ID :  0   50 분  :  pred-pred : -4743.4136  /  pred-real : 94975.43  /  99718.84\n",
      "Asset ID :  1   50 분  :  pred-pred : -292440.2  /  pred-real : 93801.03  /  386241.22\n",
      "Asset ID :  2   50 분  :  pred-pred : -6061.6104  /  pred-real : 260245.34  /  266306.97\n",
      "Asset ID :  3   50 분  :  pred-pred : 124.17782  /  pred-real : -299059.97  /  -299184.16\n",
      "Asset ID :  4   50 분  :  pred-pred : 87.45717  /  pred-real : 5382.681  /  5295.224\n",
      "Asset ID :  5   50 분  :  pred-pred : 202.78833  /  pred-real : -77292.28  /  -77495.07\n",
      "Asset ID :  6   50 분  :  pred-pred : -12669.871  /  pred-real : -596791.9  /  -584122.0\n",
      "Asset ID :  7   50 분  :  pred-pred : -64.62192  /  pred-real : 908298.3  /  908362.94\n",
      "Asset ID :  8   50 분  :  pred-pred : -53.296875  /  pred-real : -54441.188  /  -54387.89\n",
      "Asset ID :  9   50 분  :  pred-pred : -1313.3687  /  pred-real : 50928.8  /  52242.168\n",
      "Asset ID :  10   50 분  :  pred-pred : -73456.61  /  pred-real : -942785.0  /  -869328.4\n",
      "Asset ID :  11   50 분  :  pred-pred : -3044.7373  /  pred-real : -320831.0  /  -317786.25\n",
      "Asset ID :  12   50 분  :  pred-pred : 0.0  /  pred-real : -36470.008  /  -36470.008\n",
      "Asset ID :  13   50 분  :  pred-pred : 0.0  /  pred-real : -25764.092  /  -25764.092\n",
      "\n",
      "Asset ID :  0   55 분  :  pred-pred : -5211.0127  /  pred-real : 94517.79  /  99728.805\n",
      "Asset ID :  1   55 분  :  pred-pred : -319534.06  /  pred-real : 65025.86  /  384559.94\n",
      "Asset ID :  2   55 분  :  pred-pred : -6662.1914  /  pred-real : 259555.92  /  266218.12\n",
      "Asset ID :  3   55 분  :  pred-pred : 134.35353  /  pred-real : -299025.88  /  -299160.22\n",
      "Asset ID :  4   55 분  :  pred-pred : 96.228424  /  pred-real : 5382.8105  /  5286.582\n",
      "Asset ID :  5   55 분  :  pred-pred : 221.90248  /  pred-real : -77284.48  /  -77506.38\n",
      "Asset ID :  6   55 분  :  pred-pred : -13790.45  /  pred-real : -598072.4  /  -584281.94\n",
      "Asset ID :  7   55 분  :  pred-pred : -69.52551  /  pred-real : 908185.0  /  908254.5\n",
      "Asset ID :  8   55 분  :  pred-pred : -58.924805  /  pred-real : -54437.875  /  -54378.95\n",
      "Asset ID :  9   55 분  :  pred-pred : -1450.5431  /  pred-real : 50794.734  /  52245.277\n",
      "Asset ID :  10   55 분  :  pred-pred : -80695.48  /  pred-real : -949992.5  /  -869297.0\n",
      "Asset ID :  11   55 분  :  pred-pred : -3346.9429  /  pred-real : -321088.22  /  -317741.28\n",
      "Asset ID :  12   55 분  :  pred-pred : 0.0  /  pred-real : -36466.094  /  -36466.094\n",
      "Asset ID :  13   55 분  :  pred-pred : 0.0  /  pred-real : -25761.125  /  -25761.125\n",
      "\n"
     ]
    }
   ],
   "source": [
    "for min in range(5,60,5):\n",
    "    for id in range(14):\n",
    "        a = pd.DataFrame(closeminmaxsacler.inverse_transform(pred[:, id]))\n",
    "        a.columns =[f'predict[:{-min}]']\n",
    "        a[f'real[:{-min}]'] = pd.DataFrame(closeminmaxsacler.inverse_transform(y_valid[:, id].reshape(-1,1)))                        \n",
    "        df=pd.DataFrame(a[min:])\n",
    "        df.reset_index(inplace=True)\n",
    "        b = a[:-min]\n",
    "        b[f'predict[{min}:]'] = df[f'predict[:-{min}]']\n",
    "        b[f'real[{min}:]'] = df[f'real[:-{min}]']\n",
    "        b['pred-pred'] = b[f'predict[{min}:]']-b[f'predict[:-{min}]']\n",
    "        b['pred-real'] = b[f'predict[{min}:]']-b[f'real[:-{min}]']\n",
    "        print(\"Asset ID : \", id,' ', min,'분', ' : ', 'pred-pred :', b['pred-pred'].sum(), ' / ', 'pred-real :',b['pred-real'].sum(),\n",
    "             ' / ', (b['pred-real'].sum()-b['pred-pred'].sum()))\n",
    "    print()\n"
   ]
  }
 ],
 "metadata": {
  "kernelspec": {
   "display_name": "Python 3 (ipykernel)",
   "language": "python",
   "name": "python3"
  },
  "language_info": {
   "codemirror_mode": {
    "name": "ipython",
    "version": 3
   },
   "file_extension": ".py",
   "mimetype": "text/x-python",
   "name": "python",
   "nbconvert_exporter": "python",
   "pygments_lexer": "ipython3",
   "version": "3.8.12"
  }
 },
 "nbformat": 4,
 "nbformat_minor": 5
}
